{
  "cells": [
    {
      "cell_type": "markdown",
      "metadata": {},
      "source": [
        "# VeloVI Runtime Analysis"
      ]
    },
    {
      "cell_type": "markdown",
      "metadata": {},
      "source": [
        "## Download Data\n",
        "\n",
        "Using data from https://github.com/pachterlab/MBLGLMBHGP_2021/blob/master/notebooks/retina_velocity.ipynb."
      ]
    },
    {
      "cell_type": "code",
      "execution_count": 2,
      "metadata": {
        "colab": {
          "base_uri": "https://localhost:8080/"
        },
        "id": "HD00Xzo2aZ4c",
        "outputId": "e65e5c79-ac1b-47f9-b003-250a6443133e"
      },
      "outputs": [
        {
          "name": "stdout",
          "output_type": "stream",
          "text": [
            "--2022-07-25 12:02:08--  https://caltech.box.com/shared/static/lo6satyyrjhvhgkmj3gv39360eshxa3n.gz\n",
            "Resolving caltech.box.com (caltech.box.com)... 107.152.29.197\n",
            "Connecting to caltech.box.com (caltech.box.com)|107.152.29.197|:443... connected.\n",
            "HTTP request sent, awaiting response... 301 Moved Permanently\n",
            "Location: /public/static/lo6satyyrjhvhgkmj3gv39360eshxa3n.gz [following]\n",
            "--2022-07-25 12:02:08--  https://caltech.box.com/public/static/lo6satyyrjhvhgkmj3gv39360eshxa3n.gz\n",
            "Reusing existing connection to caltech.box.com:443.\n",
            "HTTP request sent, awaiting response... 301 Moved Permanently\n",
            "Location: https://caltech.app.box.com/public/static/lo6satyyrjhvhgkmj3gv39360eshxa3n.gz [following]\n",
            "--2022-07-25 12:02:08--  https://caltech.app.box.com/public/static/lo6satyyrjhvhgkmj3gv39360eshxa3n.gz\n",
            "Resolving caltech.app.box.com (caltech.app.box.com)... 74.112.186.144\n",
            "Connecting to caltech.app.box.com (caltech.app.box.com)|74.112.186.144|:443... connected.\n",
            "HTTP request sent, awaiting response... 302 Found\n",
            "Location: https://dl2.boxcloud.com/d/1/b1!l6sT9YSX2e7ECUE8zB3aO6laKcv9FR-tqgmtVQcjz7ZKwxRMqsBUhrOp9x2OxXcBb5UhpwMCZSjRyZ2dv3EPyV2Qy5fOsvHgyOYfuv7PVSfBWFSyFu-zEtLpron8_SP6qqNUTKCbxZh3VVt0soasU_yL4lEuYW_g1HosXKr0u6hBjgOHlM25_B9VGeTZHP9CWxtfx5YFLPV-fHkeo4Aww1_dEF1xFK4UZzCxOauSbaJcBcnCIOGsGfYRnNQwZth3M_3cd-QAoGwZ97uuvHf7-giAapTLrPB3ZooGGxqPvc9rYhZQ8gsakDkdDVm-5j7kgELDpwtcKK2LACR0YKi80274DRFtCwzv_19cTwiIS17Yejz4KNf7AHsL4WRo0I0hCo7ROisyCTXJRB7RcVKDaJiJfANPSQcabE2d0PfN97m0AoBcQ9si0Gr6EoZCa5pX8bihKBN5piEfdK45rs1ClZMgREHObu-MtTkBqtNkMKyYxUJ4G99PIFh0_W83OHkP234vM0I_AQphr9HCfPHX8L-XMP0jNQqwf2qvSuUrTKOWe2h_P6mbnIyP-6tet7owI5eAt6Rml9PLuUi5dFt-MsPCFhD_seucNDd1rFQ2LLAkIdhBJ4SGTFUbMK5h9M-rHhszP0c-2qoSTvwmP0yy44iWO4zah39W6jVXCxfH31fHntNQMthBBx0ZNc9fCZAxgRxpdv4OgxgQubq63Pm1jPSLKIv7j-NPf6UfTSVWsahagx2kXRhxbESXgUQdHi1Q0EdMzy_GSHOa0GUM3bmfwHy6NAGIQ9Rybgq-BNA-kYeC-t-rnj3ZI99ii0tKSesnev4EscQSht2r275yst_YGpLPMaBqWqeu4x-XUFrK-SASFLhJUm1K2vc0bNABAMiVAmJlF5Sog8V-PcDLuI_S9AvuWaqtiSGIl6pZvFOMPGuy4X_YLpzdIRXDUrqIRkIyPr_5z3u5upswbnwRLsr23BCkQuaBCp_2iq2APR0kVEdbovnDYPsjPfpcdUVSjDniz9VS4KZwyhMsiaVIkgbh-N6dcn6K0MNIb_pRo4BlbUFqzFgX47c26KAMhKcPpH8SD6ir4nEwxgHrIhScWnOg3_4hmy-iZzVk0x5pK7pdV5IKM1JWLkivd8UnPSI2336X5CBLFBTyAPWp5X6RF9cl29rwrlYW2R5ngp2_V1Wdm_eZY7_l4ToRvb5o1dtyXgmUh4nY6-aCp8f-cqGP8TX0idi9ng0wUjodUnc1cNIQwqoi3GekvsjwaFLwjM1btVLowigZSy-ke2AJ5H0jCgIo1o8t4uLADnCFFvMw3foo4WlV0_o2dHjfk65lng_a9u9jps1niVCXGZggYFv0594tb0vUM4XkM6twrBTvHcipr1r3VKeORSeuf55GwQlA3FZT0o_MKWMh4VM3a1W326fOvMHPsHhIqOA./download [following]\n",
            "--2022-07-25 12:02:09--  https://dl2.boxcloud.com/d/1/b1!l6sT9YSX2e7ECUE8zB3aO6laKcv9FR-tqgmtVQcjz7ZKwxRMqsBUhrOp9x2OxXcBb5UhpwMCZSjRyZ2dv3EPyV2Qy5fOsvHgyOYfuv7PVSfBWFSyFu-zEtLpron8_SP6qqNUTKCbxZh3VVt0soasU_yL4lEuYW_g1HosXKr0u6hBjgOHlM25_B9VGeTZHP9CWxtfx5YFLPV-fHkeo4Aww1_dEF1xFK4UZzCxOauSbaJcBcnCIOGsGfYRnNQwZth3M_3cd-QAoGwZ97uuvHf7-giAapTLrPB3ZooGGxqPvc9rYhZQ8gsakDkdDVm-5j7kgELDpwtcKK2LACR0YKi80274DRFtCwzv_19cTwiIS17Yejz4KNf7AHsL4WRo0I0hCo7ROisyCTXJRB7RcVKDaJiJfANPSQcabE2d0PfN97m0AoBcQ9si0Gr6EoZCa5pX8bihKBN5piEfdK45rs1ClZMgREHObu-MtTkBqtNkMKyYxUJ4G99PIFh0_W83OHkP234vM0I_AQphr9HCfPHX8L-XMP0jNQqwf2qvSuUrTKOWe2h_P6mbnIyP-6tet7owI5eAt6Rml9PLuUi5dFt-MsPCFhD_seucNDd1rFQ2LLAkIdhBJ4SGTFUbMK5h9M-rHhszP0c-2qoSTvwmP0yy44iWO4zah39W6jVXCxfH31fHntNQMthBBx0ZNc9fCZAxgRxpdv4OgxgQubq63Pm1jPSLKIv7j-NPf6UfTSVWsahagx2kXRhxbESXgUQdHi1Q0EdMzy_GSHOa0GUM3bmfwHy6NAGIQ9Rybgq-BNA-kYeC-t-rnj3ZI99ii0tKSesnev4EscQSht2r275yst_YGpLPMaBqWqeu4x-XUFrK-SASFLhJUm1K2vc0bNABAMiVAmJlF5Sog8V-PcDLuI_S9AvuWaqtiSGIl6pZvFOMPGuy4X_YLpzdIRXDUrqIRkIyPr_5z3u5upswbnwRLsr23BCkQuaBCp_2iq2APR0kVEdbovnDYPsjPfpcdUVSjDniz9VS4KZwyhMsiaVIkgbh-N6dcn6K0MNIb_pRo4BlbUFqzFgX47c26KAMhKcPpH8SD6ir4nEwxgHrIhScWnOg3_4hmy-iZzVk0x5pK7pdV5IKM1JWLkivd8UnPSI2336X5CBLFBTyAPWp5X6RF9cl29rwrlYW2R5ngp2_V1Wdm_eZY7_l4ToRvb5o1dtyXgmUh4nY6-aCp8f-cqGP8TX0idi9ng0wUjodUnc1cNIQwqoi3GekvsjwaFLwjM1btVLowigZSy-ke2AJ5H0jCgIo1o8t4uLADnCFFvMw3foo4WlV0_o2dHjfk65lng_a9u9jps1niVCXGZggYFv0594tb0vUM4XkM6twrBTvHcipr1r3VKeORSeuf55GwQlA3FZT0o_MKWMh4VM3a1W326fOvMHPsHhIqOA./download\n",
            "Resolving dl2.boxcloud.com (dl2.boxcloud.com)... 74.112.186.128\n",
            "Connecting to dl2.boxcloud.com (dl2.boxcloud.com)|74.112.186.128|:443... connected.\n",
            "HTTP request sent, awaiting response... 200 OK\n",
            "Length: 4739706069 (4.4G) [application/octet-stream]\n",
            "Saving to: ‘retina.h5ad.gz’\n",
            "\n",
            "retina.h5ad.gz      100%[===================>]   4.41G  14.2MB/s    in 6m 15s  \n",
            "\n",
            "2022-07-25 12:08:24 (12.0 MB/s) - ‘retina.h5ad.gz’ saved [4739706069/4739706069]\n",
            "\n"
          ]
        }
      ],
      "source": [
        "# !wget -O retina.h5ad.gz https://caltech.box.com/shared/static/lo6satyyrjhvhgkmj3gv39360eshxa3n.gz"
      ]
    },
    {
      "cell_type": "code",
      "execution_count": 3,
      "metadata": {
        "id": "xtkTJ7LeeF9H"
      },
      "outputs": [],
      "source": [
        "# !gunzip retina.h5ad.gz"
      ]
    },
    {
      "cell_type": "markdown",
      "metadata": {},
      "source": [
        "## Imports"
      ]
    },
    {
      "cell_type": "code",
      "execution_count": 1,
      "metadata": {
        "id": "wCAhLviIgYEC"
      },
      "outputs": [
        {
          "name": "stderr",
          "output_type": "stream",
          "text": [
            "Global seed set to 0\n"
          ]
        }
      ],
      "source": [
        "import time\n",
        "import random\n",
        "import itertools\n",
        "import os\n",
        "\n",
        "import anndata\n",
        "import numpy as np\n",
        "import pandas as pd\n",
        "from sklearn.preprocessing import MinMaxScaler\n",
        "import torch\n",
        "\n",
        "import scvelo as scv\n",
        "from velovi import VELOVI"
      ]
    },
    {
      "cell_type": "markdown",
      "metadata": {},
      "source": [
        "## Helper Definitions"
      ]
    },
    {
      "cell_type": "code",
      "execution_count": 2,
      "metadata": {
        "id": "Qa22CdELgZq8"
      },
      "outputs": [],
      "source": [
        "def fit_scvelo(adata):\n",
        "    start = time.time()\n",
        "    scv.tl.recover_dynamics(\n",
        "        adata, fit_scaling=False, var_names=adata.var_names, n_jobs=8\n",
        "    )\n",
        "    scv.tl.velocity(adata, mode=\"dynamical\")\n",
        "    return time.time() - start\n",
        "\n",
        "def fit_velovi(bdata):\n",
        "    start = time.time()\n",
        "    VELOVI.setup_anndata(bdata, spliced_layer=\"Ms\", unspliced_layer=\"Mu\")\n",
        "\n",
        "    vae = VELOVI(bdata)\n",
        "    vae.train()\n",
        "\n",
        "    df = vae.history[\"elbo_train\"].iloc[20:].reset_index().rename(columns={'elbo_train': 'elbo'})\n",
        "    df['set'] = 'train'\n",
        "\n",
        "    _df = vae.history[\"elbo_validation\"].iloc[20:].reset_index().rename(columns={'elbo_validation': 'elbo'})\n",
        "    _df['set'] = 'validation'\n",
        "\n",
        "    df = pd.concat([df, _df], axis=0).reset_index(drop=True)\n",
        "\n",
        "    # with mplscience.style_context():\n",
        "    #     sns.set_style(style=\"whitegrid\")\n",
        "    #     fig, ax = plt.subplots(figsize=(6, 4))\n",
        "    #     sns.lineplot(data=df, x='epoch', y='elbo', hue='set', palette=['#0173B2', '#DE8F05'], ax=ax)\n",
        "\n",
        "    latent_time = vae.get_latent_time(n_samples=25)\n",
        "    velocities = vae.get_velocity(n_samples=25, velo_statistic=\"mean\")\n",
        "\n",
        "    t = latent_time\n",
        "    scaling = 20 / t.max(0)\n",
        "\n",
        "    bdata.layers[\"velocities_velovi\"] = velocities / scaling\n",
        "    bdata.layers[\"latent_time_velovi\"] = latent_time\n",
        "\n",
        "    bdata.var[\"fit_alpha\"] = vae.get_rates()[\"alpha\"] / scaling\n",
        "    bdata.var[\"fit_beta\"] = vae.get_rates()[\"beta\"] / scaling\n",
        "    bdata.var[\"fit_gamma\"] = vae.get_rates()[\"gamma\"] / scaling\n",
        "    bdata.var[\"fit_t_\"] = (\n",
        "        torch.nn.functional.softplus(vae.module.switch_time_unconstr)\n",
        "        .detach()\n",
        "        .cpu()\n",
        "        .numpy()\n",
        "    ) * scaling\n",
        "    bdata.layers[\"fit_t\"] = latent_time.values * scaling[np.newaxis, :]\n",
        "    bdata.var['fit_scaling'] = 1.0\n",
        "\n",
        "    return time.time() - start"
      ]
    },
    {
      "cell_type": "code",
      "execution_count": 3,
      "metadata": {
        "id": "v523CM6vlZ8R"
      },
      "outputs": [],
      "source": [
        "def min_max_scaled(bdata):\n",
        "    mu_scaler = MinMaxScaler()\n",
        "    bdata.layers['Mu'] = mu_scaler.fit_transform(bdata.layers['Mu'])\n",
        "    ms_scaler = MinMaxScaler()\n",
        "    bdata.layers['Ms'] = ms_scaler.fit_transform(bdata.layers['Ms'])\n",
        "    return bdata\n",
        " "
      ]
    },
    {
      "cell_type": "code",
      "execution_count": 4,
      "metadata": {},
      "outputs": [],
      "source": [
        "def subsample_adata(adata, n):\n",
        "  if n > adata.n_obs:\n",
        "    print(f\"{n} greater than n_obs, {adata.n_obs}. Using {adata.n_obs} instead.\")\n",
        "    n = adata.n_obs\n",
        "  sample_idxs = np.random.choice(adata.n_obs, size=n, replace=False)\n",
        "  sample_adata = adata[sample_idxs].copy()\n",
        "  return sample_adata"
      ]
    },
    {
      "cell_type": "markdown",
      "metadata": {
        "id": "glNxiDFopoJ2"
      },
      "source": [
        "## Run tests"
      ]
    },
    {
      "cell_type": "code",
      "execution_count": 5,
      "metadata": {
        "id": "X3KHHOhudWWo"
      },
      "outputs": [
        {
          "data": {
            "text/plain": [
              "AnnData object with n_obs × n_vars = 113909 × 5000\n",
              "    obs: 'sample', 'time', 'barcode', 'umap_cluster', 'umap_coord1', 'umap_coord2', 'umap_coord3', 'used_for_pseudotime', 'umap2_CellType', 'n_genes', 'initial_size_spliced', 'initial_size_unspliced', 'initial_size', 'n_counts', 'velocity_self_transition'\n",
              "    var: 'n_cells', 'means', 'dispersions', 'dispersions_norm', 'highly_variable', 'velocity_gamma', 'velocity_r2', 'velocity_genes'\n",
              "    uns: 'neighbors', 'pca', 'umap2_CellType_colors', 'velocity_graph', 'velocity_graph_neg', 'velocity_params'\n",
              "    obsm: 'X_pca', 'X_umap', 'velocity_pca', 'velocity_umap'\n",
              "    varm: 'PCs'\n",
              "    layers: 'Ms', 'Mu', 'spliced', 'unspliced', 'variance_velocity', 'velocity'\n",
              "    obsp: 'connectivities', 'distances'"
            ]
          },
          "execution_count": 5,
          "metadata": {},
          "output_type": "execute_result"
        }
      ],
      "source": [
        "adata = anndata.read_h5ad(\"retina.h5ad\")\n",
        "adata"
      ]
    },
    {
      "cell_type": "code",
      "execution_count": 6,
      "metadata": {
        "id": "i4-1FnL2pr50"
      },
      "outputs": [],
      "source": [
        "def run_runtime_tests(adata, subsample_ns):\n",
        "  methods = [\"scvelo\", \"velovi\"]\n",
        "  configs = list(itertools.product(methods, subsample_ns))\n",
        "  random.shuffle(configs)\n",
        "  for method_name, subsample_n in configs:\n",
        "    save_name = f\"results/{method_name}_{subsample_n}\"\n",
        "    if os.path.exists(save_name):\n",
        "      print(f\"{save_name} already exists, skipping\")\n",
        "      continue\n",
        "\n",
        "    print(f\"Running {method_name} with subsample_n={subsample_n}.\")\n",
        "    bdata = subsample_adata(adata, subsample_n)\n",
        "    if method_name == \"scvelo\":\n",
        "      runtime_s = fit_scvelo(bdata)\n",
        "    elif method_name == \"velovi\":\n",
        "      bdata = min_max_scaled(bdata)\n",
        "      runtime_s = fit_velovi(bdata)\n",
        "    else:\n",
        "      raise ValueError\n",
        "    \n",
        "    res_row = [subsample_n, runtime_s, method_name]\n",
        "    np.save(save_name, np.array(res_row))"
      ]
    },
    {
      "cell_type": "code",
      "execution_count": 7,
      "metadata": {
        "id": "ZKZzu9z4t1I9"
      },
      "outputs": [
        {
          "name": "stdout",
          "output_type": "stream",
          "text": [
            "Running scvelo with subsample_n=5000.\n",
            "recovering dynamics (using 8/20 cores)\n"
          ]
        },
        {
          "data": {
            "application/vnd.jupyter.widget-view+json": {
              "model_id": "72931516a82e4e7ab0c3c55b444d49b5",
              "version_major": 2,
              "version_minor": 0
            },
            "text/plain": [
              "  0%|          | 0/5000 [00:00<?, ?gene/s]"
            ]
          },
          "metadata": {},
          "output_type": "display_data"
        },
        {
          "name": "stdout",
          "output_type": "stream",
          "text": [
            "WARNING: ENSMUSG00000068129 not recoverable due to insufficient samples.\n",
            "WARNING: ENSMUSG00000032769 not recoverable due to insufficient samples.\n",
            "WARNING: ENSMUSG00000047562 not recoverable due to insufficient samples.\n",
            "WARNING: ENSMUSG00000074695 not recoverable due to insufficient samples.\n",
            "WARNING: ENSMUSG00000016982 not recoverable due to insufficient samples.\n",
            "WARNING: ENSMUSG00000006179 not recoverable due to insufficient samples.\n",
            "WARNING: ENSMUSG00000025328 not recoverable due to insufficient samples.\n",
            "WARNING: skipping bimodality check for ENSMUSG00000047228\n",
            "WARNING: ENSMUSG00000071561 not recoverable due to insufficient samples.\n",
            "WARNING: ENSMUSG00000031932 not recoverable due to insufficient samples.\n",
            "WARNING: ENSMUSG00000030156 not recoverable due to insufficient samples.\n",
            "WARNING: ENSMUSG00000053063 not recoverable due to insufficient samples.\n",
            "WARNING: ENSMUSG00000027611 not recoverable due to insufficient samples.\n",
            "WARNING: skipping bimodality check for ENSMUSG00000022667\n",
            "WARNING: ENSMUSG00000104072 not recoverable due to insufficient samples.\n",
            "WARNING: ENSMUSG00000028946 not recoverable due to insufficient samples.\n",
            "WARNING: ENSMUSG00000059762 not recoverable due to insufficient samples.\n",
            "WARNING: ENSMUSG00000058550 not recoverable due to insufficient samples.\n",
            "WARNING: ENSMUSG00000061100 not recoverable due to insufficient samples.\n",
            "WARNING: skipping bimodality check for ENSMUSG00000078949\n",
            "WARNING: ENSMUSG00000054986 not recoverable due to insufficient samples.\n",
            "WARNING: ENSMUSG00000100426 not recoverable due to insufficient samples.\n",
            "WARNING: ENSMUSG00000012428 not recoverable due to insufficient samples.\n",
            "WARNING: ENSMUSG00000021469 not recoverable due to insufficient samples.\n",
            "WARNING: ENSMUSG00000078810 not recoverable due to insufficient samples.\n",
            "WARNING: ENSMUSG00000085035 not recoverable due to insufficient samples.\n",
            "WARNING: ENSMUSG00000006542 not recoverable due to insufficient samples.\n",
            "WARNING: ENSMUSG00000040610 not recoverable due to insufficient samples.\n",
            "WARNING: ENSMUSG00000047109 not recoverable due to insufficient samples.\n",
            "WARNING: ENSMUSG00000002033 not recoverable due to insufficient samples.\n",
            "WARNING: ENSMUSG00000046480 not recoverable due to insufficient samples.\n",
            "WARNING: ENSMUSG00000059412 not recoverable due to insufficient samples.\n",
            "WARNING: ENSMUSG00000043230 not recoverable due to insufficient samples.\n",
            "WARNING: ENSMUSG00000011349 not recoverable due to insufficient samples.\n",
            "WARNING: ENSMUSG00000049685 not recoverable due to insufficient samples.\n",
            "WARNING: ENSMUSG00000052974 not recoverable due to insufficient samples.\n",
            "WARNING: ENSMUSG00000097566 not recoverable due to insufficient samples.\n",
            "WARNING: ENSMUSG00000104000 not recoverable due to insufficient samples.\n",
            "WARNING: ENSMUSG00000055546 not recoverable due to insufficient samples.\n",
            "WARNING: ENSMUSG00000032315 not recoverable due to insufficient samples.\n",
            "WARNING: skipping bimodality check for ENSMUSG00000026303\n",
            "WARNING: ENSMUSG00000074768 not recoverable due to insufficient samples.\n",
            "WARNING: ENSMUSG00000001865 not recoverable due to insufficient samples.\n",
            "WARNING: ENSMUSG00000026308 not recoverable due to insufficient samples.\n",
            "WARNING: ENSMUSG00000034107 not recoverable due to insufficient samples.\n",
            "WARNING: skipping bimodality check for ENSMUSG00000020264\n",
            "WARNING: ENSMUSG00000059956 not recoverable due to insufficient samples.\n",
            "WARNING: ENSMUSG00000105105 not recoverable due to insufficient samples.\n",
            "WARNING: ENSMUSG00000105352 not recoverable due to insufficient samples.\n",
            "WARNING: ENSMUSG00000064147 not recoverable due to insufficient samples.\n",
            "WARNING: ENSMUSG00000032346 not recoverable due to insufficient samples.\n",
            "WARNING: ENSMUSG00000106136 not recoverable due to insufficient samples.\n",
            "WARNING: ENSMUSG00000049511 not recoverable due to insufficient samples.\n",
            "WARNING: ENSMUSG00000030470 not recoverable due to insufficient samples.\n",
            "WARNING: ENSMUSG00000097386 not recoverable due to insufficient samples.\n",
            "WARNING: ENSMUSG00000041559 not recoverable due to insufficient samples.\n",
            "WARNING: ENSMUSG00000031506 not recoverable due to insufficient samples.\n",
            "WARNING: ENSMUSG00000027833 not recoverable due to insufficient samples.\n",
            "WARNING: ENSMUSG00000041287 not recoverable due to insufficient samples.\n",
            "WARNING: ENSMUSG00000094891 not recoverable due to insufficient samples.\n",
            "WARNING: skipping bimodality check for ENSMUSG00000002289\n",
            "WARNING: ENSMUSG00000108313 not recoverable due to insufficient samples.\n",
            "WARNING: ENSMUSG00000037548 not recoverable due to insufficient samples.\n",
            "WARNING: ENSMUSG00000036594 not recoverable due to insufficient samples.\n",
            "WARNING: ENSMUSG00000042485 not recoverable due to insufficient samples.\n",
            "WARNING: ENSMUSG00000006522 not recoverable due to insufficient samples.\n",
            "WARNING: skipping bimodality check for ENSMUSG00000105640\n",
            "WARNING: ENSMUSG00000034923 not recoverable due to insufficient samples.\n",
            "WARNING: ENSMUSG00000029370 not recoverable due to insufficient samples.\n",
            "WARNING: skipping bimodality check for ENSMUSG00000039236\n",
            "WARNING: ENSMUSG00000028071 not recoverable due to insufficient samples.\n",
            "WARNING: ENSMUSG00000054406 not recoverable due to insufficient samples.\n",
            "WARNING: ENSMUSG00000109485 not recoverable due to insufficient samples.\n",
            "WARNING: ENSMUSG00000025105 not recoverable due to insufficient samples.\n",
            "WARNING: ENSMUSG00000035187 not recoverable due to insufficient samples.\n",
            "WARNING: ENSMUSG00000038540 not recoverable due to insufficient samples.\n",
            "WARNING: ENSMUSG00000029307 not recoverable due to insufficient samples.\n",
            "WARNING: ENSMUSG00000029306 not recoverable due to insufficient samples.\n",
            "WARNING: ENSMUSG00000029304 not recoverable due to insufficient samples.\n",
            "WARNING: skipping bimodality check for ENSMUSG00000060523\n",
            "WARNING: ENSMUSG00000023968 not recoverable due to insufficient samples.\n",
            "WARNING: ENSMUSG00000001020 not recoverable due to insufficient samples.\n",
            "WARNING: ENSMUSG00000027913 not recoverable due to insufficient samples.\n",
            "WARNING: skipping bimodality check for ENSMUSG00000044037\n",
            "WARNING: ENSMUSG00000026581 not recoverable due to insufficient samples.\n",
            "WARNING: ENSMUSG00000023993 not recoverable due to insufficient samples.\n",
            "WARNING: ENSMUSG00000040629 not recoverable due to insufficient samples.\n",
            "WARNING: ENSMUSG00000022220 not recoverable due to insufficient samples.\n",
            "WARNING: ENSMUSG00000015443 not recoverable due to insufficient samples.\n",
            "WARNING: skipping bimodality check for ENSMUSG00000091649\n",
            "WARNING: ENSMUSG00000024164 not recoverable due to insufficient samples.\n",
            "WARNING: ENSMUSG00000025804 not recoverable due to insufficient samples.\n",
            "WARNING: ENSMUSG00000073907 not recoverable due to insufficient samples.\n",
            "WARNING: ENSMUSG00000053318 not recoverable due to insufficient samples.\n",
            "WARNING: ENSMUSG00000027871 not recoverable due to insufficient samples.\n",
            "WARNING: ENSMUSG00000089842 not recoverable due to insufficient samples.\n",
            "WARNING: ENSMUSG00000066671 not recoverable due to insufficient samples.\n",
            "WARNING: ENSMUSG00000009350 not recoverable due to insufficient samples.\n",
            "WARNING: ENSMUSG00000101746 not recoverable due to insufficient samples.\n",
            "WARNING: ENSMUSG00000072553 not recoverable due to insufficient samples.\n",
            "WARNING: ENSMUSG00000022097 not recoverable due to insufficient samples.\n",
            "WARNING: ENSMUSG00000046213 not recoverable due to insufficient samples.\n",
            "WARNING: ENSMUSG00000001508 not recoverable due to insufficient samples.\n",
            "WARNING: ENSMUSG00000095741 not recoverable due to insufficient samples.\n",
            "WARNING: ENSMUSG00000031101 not recoverable due to insufficient samples.\n",
            "WARNING: ENSMUSG00000056648 not recoverable due to insufficient samples.\n",
            "WARNING: ENSMUSG00000004814 not recoverable due to insufficient samples.\n",
            "WARNING: ENSMUSG00000042985 not recoverable due to insufficient samples.\n",
            "WARNING: ENSMUSG00000038216 not recoverable due to insufficient samples.\n",
            "WARNING: ENSMUSG00000030762 not recoverable due to insufficient samples.\n",
            "WARNING: ENSMUSG00000097850 not recoverable due to insufficient samples.\n",
            "WARNING: ENSMUSG00000031138 not recoverable due to insufficient samples.\n",
            "WARNING: ENSMUSG00000019232 not recoverable due to insufficient samples.\n",
            "WARNING: ENSMUSG00000056380 not recoverable due to insufficient samples.\n",
            "WARNING: ENSMUSG00000079845 not recoverable due to insufficient samples.\n",
            "WARNING: skipping bimodality check for ENSMUSG00000002007\n",
            "WARNING: ENSMUSG00000075570 not recoverable due to insufficient samples.\n",
            "WARNING: ENSMUSG00000051457 not recoverable due to insufficient samples.\n",
            "WARNING: ENSMUSG00000098630 not recoverable due to insufficient samples.\n",
            "WARNING: ENSMUSG00000030789 not recoverable due to insufficient samples.\n",
            "WARNING: ENSMUSG00000071229 not recoverable due to insufficient samples.\n",
            "WARNING: ENSMUSG00000030862 not recoverable due to insufficient samples.\n",
            "WARNING: ENSMUSG00000028270 not recoverable due to insufficient samples.\n",
            "WARNING: ENSMUSG00000106052 not recoverable due to insufficient samples.\n",
            "WARNING: ENSMUSG00000001494 not recoverable due to insufficient samples.\n",
            "WARNING: ENSMUSG00000038745 not recoverable due to insufficient samples.\n",
            "WARNING: ENSMUSG00000053129 not recoverable due to insufficient samples.\n",
            "WARNING: ENSMUSG00000018486 not recoverable due to insufficient samples.\n",
            "WARNING: ENSMUSG00000073008 not recoverable due to insufficient samples.\n",
            "WARNING: ENSMUSG00000029755 not recoverable due to insufficient samples.\n",
            "WARNING: ENSMUSG00000108888 not recoverable due to insufficient samples.\n",
            "WARNING: ENSMUSG00000108961 not recoverable due to insufficient samples.\n",
            "WARNING: ENSMUSG00000026805 not recoverable due to insufficient samples.\n",
            "WARNING: ENSMUSG00000042386 not recoverable due to insufficient samples.\n",
            "WARNING: ENSMUSG00000059201 not recoverable due to insufficient samples.\n",
            "WARNING: ENSMUSG00000031449 not recoverable due to insufficient samples.\n",
            "WARNING: ENSMUSG00000006570 not recoverable due to insufficient samples.\n",
            "WARNING: ENSMUSG00000044743 not recoverable due to insufficient samples.\n",
            "WARNING: ENSMUSG00000024619 not recoverable due to insufficient samples.\n",
            "WARNING: ENSMUSG00000087613 not recoverable due to insufficient samples.\n",
            "WARNING: ENSMUSG00000086644 not recoverable due to insufficient samples.\n",
            "WARNING: ENSMUSG00000043505 not recoverable due to insufficient samples.\n",
            "WARNING: ENSMUSG00000029831 not recoverable due to insufficient samples.\n",
            "WARNING: ENSMUSG00000000938 not recoverable due to insufficient samples.\n",
            "WARNING: ENSMUSG00000026971 not recoverable due to insufficient samples.\n",
            "WARNING: ENSMUSG00000000394 not recoverable due to insufficient samples.\n",
            "WARNING: ENSMUSG00000050473 not recoverable due to insufficient samples.\n",
            "WARNING: ENSMUSG00000005716 not recoverable due to insufficient samples.\n",
            "WARNING: ENSMUSG00000037440 not recoverable due to insufficient samples.\n",
            "WARNING: ENSMUSG00000031610 not recoverable due to insufficient samples.\n",
            "WARNING: ENSMUSG00000085404 not recoverable due to insufficient samples.\n",
            "WARNING: ENSMUSG00000033006 not recoverable due to insufficient samples.\n",
            "WARNING: ENSMUSG00000053977 not recoverable due to insufficient samples.\n",
            "WARNING: ENSMUSG00000020591 not recoverable due to insufficient samples.\n",
            "WARNING: skipping bimodality check for ENSMUSG00000019909\n",
            "WARNING: ENSMUSG00000059654 not recoverable due to insufficient samples.\n",
            "WARNING: ENSMUSG00000074240 not recoverable due to insufficient samples.\n",
            "WARNING: ENSMUSG00000009654 not recoverable due to insufficient samples.\n",
            "WARNING: ENSMUSG00000020651 not recoverable due to insufficient samples.\n",
            "WARNING: ENSMUSG00000034783 not recoverable due to insufficient samples.\n",
            "WARNING: ENSMUSG00000025418 not recoverable due to insufficient samples.\n",
            "WARNING: ENSMUSG00000034785 not recoverable due to insufficient samples.\n",
            "WARNING: ENSMUSG00000028610 not recoverable due to insufficient samples.\n",
            "WARNING: ENSMUSG00000086905 not recoverable due to insufficient samples.\n",
            "WARNING: ENSMUSG00000074217 not recoverable due to insufficient samples.\n",
            "WARNING: ENSMUSG00000022991 not recoverable due to insufficient samples.\n",
            "WARNING: ENSMUSG00000024677 not recoverable due to insufficient samples.\n",
            "WARNING: ENSMUSG00000024678 not recoverable due to insufficient samples.\n",
            "WARNING: ENSMUSG00000055895 not recoverable due to insufficient samples.\n",
            "WARNING: ENSMUSG00000098854 not recoverable due to insufficient samples.\n",
            "WARNING: ENSMUSG00000075023 not recoverable due to insufficient samples.\n",
            "WARNING: ENSMUSG00000023039 not recoverable due to insufficient samples.\n",
            "WARNING: ENSMUSG00000064232 not recoverable due to insufficient samples.\n",
            "WARNING: ENSMUSG00000061397 not recoverable due to insufficient samples.\n",
            "WARNING: skipping bimodality check for ENSMUSG00000056973\n",
            "WARNING: ENSMUSG00000048572 not recoverable due to insufficient samples.\n",
            "WARNING: ENSMUSG00000035963 not recoverable due to insufficient samples.\n",
            "WARNING: ENSMUSG00000020125 not recoverable due to insufficient samples.\n",
            "WARNING: ENSMUSG00000074128 not recoverable due to insufficient samples.\n",
            "WARNING: ENSMUSG00000021032 not recoverable due to insufficient samples.\n",
            "WARNING: ENSMUSG00000050234 not recoverable due to insufficient samples.\n",
            "WARNING: ENSMUSG00000097558 not recoverable due to insufficient samples.\n",
            "WARNING: ENSMUSG00000074896 not recoverable due to insufficient samples.\n",
            "WARNING: ENSMUSG00000062488 not recoverable due to insufficient samples.\n",
            "WARNING: ENSMUSG00000039209 not recoverable due to insufficient samples.\n",
            "WARNING: ENSMUSG00000028778 not recoverable due to insufficient samples.\n",
            "WARNING: skipping bimodality check for ENSMUSG00000050108\n",
            "WARNING: ENSMUSG00000034226 not recoverable due to insufficient samples.\n",
            "WARNING: ENSMUSG00000031722 not recoverable due to insufficient samples.\n",
            "WARNING: ENSMUSG00000008845 not recoverable due to insufficient samples.\n",
            "WARNING: ENSMUSG00000033498 not recoverable due to insufficient samples.\n",
            "WARNING: skipping bimodality check for ENSMUSG00000021091\n",
            "WARNING: ENSMUSG00000021095 not recoverable due to insufficient samples.\n",
            "WARNING: ENSMUSG00000041347 not recoverable due to insufficient samples.\n",
            "WARNING: ENSMUSG00000019936 not recoverable due to insufficient samples.\n",
            "WARNING: ENSMUSG00000002803 not recoverable due to insufficient samples.\n",
            "WARNING: ENSMUSG00000004366 not recoverable due to insufficient samples.\n",
            "WARNING: ENSMUSG00000024979 not recoverable due to insufficient samples.\n",
            "WARNING: ENSMUSG00000074805 not recoverable due to insufficient samples.\n",
            "WARNING: ENSMUSG00000035818 not recoverable due to insufficient samples.\n",
            "WARNING: ENSMUSG00000036887 not recoverable due to insufficient samples.\n",
            "WARNING: ENSMUSG00000090965 not recoverable due to insufficient samples.\n",
            "WARNING: ENSMUSG00000027345 not recoverable due to insufficient samples.\n",
            "WARNING: ENSMUSG00000084762 not recoverable due to insufficient samples.\n",
            "    finished (0:02:47) --> added \n",
            "    'fit_pars', fitted parameters for splicing dynamics (adata.var)\n",
            "computing velocities\n",
            "    finished (0:00:08) --> added \n",
            "    'velocity', velocity vectors for each individual cell (adata.layers)\n",
            "Running velovi with subsample_n=20000.\n"
          ]
        },
        {
          "name": "stderr",
          "output_type": "stream",
          "text": [
            "GPU available: True, used: True\n",
            "TPU available: False, using: 0 TPU cores\n",
            "IPU available: False, using: 0 IPUs\n",
            "HPU available: False, using: 0 HPUs\n",
            "LOCAL_RANK: 0 - CUDA_VISIBLE_DEVICES: [0]\n"
          ]
        },
        {
          "name": "stdout",
          "output_type": "stream",
          "text": [
            "Epoch 114/500:  23%|██▎       | 114/500 [02:55<09:55,  1.54s/it, loss=-2.33e+04, v_num=1]\n",
            "Monitored metric elbo_validation did not improve in the last 45 records. Best score: -22688.932. Signaling Trainer to stop.\n",
            "Running velovi with subsample_n=10000.\n"
          ]
        },
        {
          "name": "stderr",
          "output_type": "stream",
          "text": [
            "GPU available: True, used: True\n",
            "TPU available: False, using: 0 TPU cores\n",
            "IPU available: False, using: 0 IPUs\n",
            "HPU available: False, using: 0 HPUs\n",
            "LOCAL_RANK: 0 - CUDA_VISIBLE_DEVICES: [0]\n"
          ]
        },
        {
          "name": "stdout",
          "output_type": "stream",
          "text": [
            "Epoch 123/500:  25%|██▍       | 123/500 [01:35<04:52,  1.29it/s, loss=-2.29e+04, v_num=1]\n",
            "Monitored metric elbo_validation did not improve in the last 45 records. Best score: -21790.102. Signaling Trainer to stop.\n",
            "Running scvelo with subsample_n=100000.\n",
            "recovering dynamics (using 8/20 cores)\n"
          ]
        },
        {
          "data": {
            "application/vnd.jupyter.widget-view+json": {
              "model_id": "7c9f5a3b4df74df6918389d65f2db464",
              "version_major": 2,
              "version_minor": 0
            },
            "text/plain": [
              "  0%|          | 0/5000 [00:00<?, ?gene/s]"
            ]
          },
          "metadata": {},
          "output_type": "display_data"
        },
        {
          "name": "stdout",
          "output_type": "stream",
          "text": [
            "WARNING: ENSMUSG00000016982 not recoverable due to insufficient samples.\n",
            "WARNING: ENSMUSG00000006179 not recoverable due to insufficient samples.\n",
            "WARNING: ENSMUSG00000071561 not recoverable due to insufficient samples.\n",
            "WARNING: ENSMUSG00000061100 not recoverable due to insufficient samples.\n",
            "WARNING: ENSMUSG00000059762 not recoverable due to insufficient samples.\n",
            "WARNING: ENSMUSG00000100426 not recoverable due to insufficient samples.\n",
            "WARNING: ENSMUSG00000085035 not recoverable due to insufficient samples.\n",
            "WARNING: ENSMUSG00000041559 not recoverable due to insufficient samples.\n",
            "WARNING: ENSMUSG00000106136 not recoverable due to insufficient samples.\n",
            "WARNING: ENSMUSG00000097386 not recoverable due to insufficient samples.\n",
            "WARNING: ENSMUSG00000036594 not recoverable due to insufficient samples.\n",
            "WARNING: ENSMUSG00000028071 not recoverable due to insufficient samples.\n",
            "WARNING: ENSMUSG00000054406 not recoverable due to insufficient samples.\n",
            "WARNING: ENSMUSG00000026581 not recoverable due to insufficient samples.\n",
            "WARNING: ENSMUSG00000053318 not recoverable due to insufficient samples.\n",
            "WARNING: ENSMUSG00000009350 not recoverable due to insufficient samples.\n",
            "WARNING: ENSMUSG00000001508 not recoverable due to insufficient samples.\n",
            "WARNING: ENSMUSG00000097850 not recoverable due to insufficient samples.\n",
            "WARNING: ENSMUSG00000031138 not recoverable due to insufficient samples.\n",
            "WARNING: ENSMUSG00000079845 not recoverable due to insufficient samples.\n",
            "WARNING: ENSMUSG00000071229 not recoverable due to insufficient samples.\n",
            "WARNING: ENSMUSG00000018486 not recoverable due to insufficient samples.\n",
            "WARNING: ENSMUSG00000053129 not recoverable due to insufficient samples.\n",
            "WARNING: ENSMUSG00000042386 not recoverable due to insufficient samples.\n",
            "WARNING: ENSMUSG00000108961 not recoverable due to insufficient samples.\n",
            "WARNING: ENSMUSG00000006570 not recoverable due to insufficient samples.\n",
            "WARNING: ENSMUSG00000059201 not recoverable due to insufficient samples.\n",
            "WARNING: ENSMUSG00000000394 not recoverable due to insufficient samples.\n",
            "WARNING: ENSMUSG00000085404 not recoverable due to insufficient samples.\n",
            "WARNING: ENSMUSG00000086905 not recoverable due to insufficient samples.\n",
            "WARNING: ENSMUSG00000074240 not recoverable due to insufficient samples.\n",
            "WARNING: ENSMUSG00000025418 not recoverable due to insufficient samples.\n",
            "WARNING: ENSMUSG00000034785 not recoverable due to insufficient samples.\n",
            "WARNING: ENSMUSG00000022991 not recoverable due to insufficient samples.\n",
            "WARNING: ENSMUSG00000059654 not recoverable due to insufficient samples.\n",
            "WARNING: ENSMUSG00000035963 not recoverable due to insufficient samples.\n",
            "WARNING: ENSMUSG00000023039 not recoverable due to insufficient samples.\n",
            "WARNING: ENSMUSG00000064232 not recoverable due to insufficient samples.\n",
            "WARNING: ENSMUSG00000061397 not recoverable due to insufficient samples.\n",
            "WARNING: ENSMUSG00000020125 not recoverable due to insufficient samples.\n",
            "WARNING: ENSMUSG00000039209 not recoverable due to insufficient samples.\n",
            "WARNING: ENSMUSG00000074896 not recoverable due to insufficient samples.\n",
            "WARNING: ENSMUSG00000062488 not recoverable due to insufficient samples.\n",
            "WARNING: ENSMUSG00000074805 not recoverable due to insufficient samples.\n",
            "WARNING: ENSMUSG00000021095 not recoverable due to insufficient samples.\n",
            "WARNING: ENSMUSG00000041347 not recoverable due to insufficient samples.\n",
            "WARNING: ENSMUSG00000031722 not recoverable due to insufficient samples.\n"
          ]
        },
        {
          "ename": "",
          "evalue": "",
          "output_type": "error",
          "traceback": [
            "\u001b[1;31mCanceled future for execute_request message before replies were done"
          ]
        },
        {
          "ename": "",
          "evalue": "",
          "output_type": "error",
          "traceback": [
            "\u001b[1;31mThe Kernel crashed while executing code in the the current cell or a previous cell. Please review the code in the cell(s) to identify a possible cause of the failure. Click <a href='https://aka.ms/vscodeJupyterKernelCrash'>here</a> for more info. View Jupyter <a href='command:jupyter.viewOutput'>log</a> for further details."
          ]
        }
      ],
      "source": [
        "run_runtime_tests(adata, subsample_ns=[1000, 5000, 10000, 20000, 50000, 100000])"
      ]
    },
    {
      "cell_type": "markdown",
      "metadata": {
        "id": "ZZrvPLrAlY0k"
      },
      "source": [
        "## Plotting"
      ]
    },
    {
      "cell_type": "code",
      "execution_count": 23,
      "metadata": {},
      "outputs": [],
      "source": [
        "import glob\n",
        "\n",
        "runtime_result_files = glob.glob(\"results/**.npy\")\n",
        "res_df_rows = []\n",
        "for res_file in runtime_result_files:\n",
        "    res_df_row = np.load(res_file)\n",
        "    res_df_rows.append(res_df_row)\n",
        "res_df = pd.DataFrame(res_df_rows, columns=['n_obs', 'runtime', 'method'])"
      ]
    },
    {
      "cell_type": "code",
      "execution_count": 24,
      "metadata": {
        "id": "XRtq_MGSiWoP"
      },
      "outputs": [],
      "source": [
        "import matplotlib.pyplot as plt\n",
        "import seaborn as sns\n",
        "\n",
        "plt.rcParams[\"svg.fonttype\"] = \"none\"\n",
        "plt.rcParams[\"pdf.fonttype\"] = 42\n",
        "plt.rcParams[\"savefig.transparent\"] = True\n",
        "plt.rcParams[\"figure.figsize\"] = (4, 4)\n",
        "\n",
        "plt.rcParams[\"axes.titlesize\"] = 15\n",
        "plt.rcParams[\"axes.titleweight\"] = 500\n",
        "plt.rcParams[\"axes.titlepad\"] = 8.0\n",
        "plt.rcParams[\"axes.labelsize\"] = 14\n",
        "plt.rcParams[\"axes.labelweight\"] = 500\n",
        "plt.rcParams[\"axes.linewidth\"] = 1.2\n",
        "plt.rcParams[\"axes.labelpad\"] = 6.0\n",
        "plt.rcParams[\"axes.spines.top\"] = False\n",
        "plt.rcParams[\"axes.spines.right\"] = False\n",
        "\n",
        "\n",
        "plt.rcParams[\"font.size\"] = 11\n",
        "plt.rcParams['font.sans-serif'] = ['Helvetica', \"Computer Modern Sans Serif\", \"DejaVU Sans\"]\n",
        "plt.rcParams['font.weight'] = 500\n",
        "\n",
        "plt.rcParams['xtick.labelsize'] = 12\n",
        "plt.rcParams['xtick.minor.size'] = 1.375\n",
        "plt.rcParams['xtick.major.size'] = 2.75\n",
        "plt.rcParams['xtick.major.pad'] = 2\n",
        "plt.rcParams['xtick.minor.pad'] = 2\n",
        "\n",
        "plt.rcParams['ytick.labelsize'] = 12\n",
        "plt.rcParams['ytick.minor.size'] = 1.375\n",
        "plt.rcParams['ytick.major.size'] = 2.75\n",
        "plt.rcParams['ytick.major.pad'] = 2\n",
        "plt.rcParams['ytick.minor.pad'] = 2\n",
        "\n",
        "plt.rcParams[\"legend.fontsize\"] = 12\n",
        "plt.rcParams['legend.handlelength'] = 1.4\n",
        "plt.rcParams['legend.numpoints'] = 1\n",
        "plt.rcParams['legend.scatterpoints'] = 3\n",
        "plt.rcParams['legend.frameon'] = False\n",
        "\n",
        "plt.rcParams['lines.linewidth'] = 1.7"
      ]
    },
    {
      "cell_type": "code",
      "execution_count": 37,
      "metadata": {
        "id": "q3l6_Kt5jX-5"
      },
      "outputs": [
        {
          "data": {
            "image/png": "[encoded data removed]",
            "text/plain": [
              "<Figure size 288x288 with 1 Axes>"
            ]
          },
          "metadata": {
            "needs_background": "light"
          },
          "output_type": "display_data"
        }
      ],
      "source": [
        "fig, ax = plt.subplots()\n",
        "\n",
        "group = np.unique(res_df['method'])\n",
        "palette = itertools.cycle(sns.color_palette(\"Set2\"))\n",
        "\n",
        "for g in np.unique(group):\n",
        "    tmp = res_df[res_df['method']==g]\n",
        "    tmp['n_obs'] = tmp['n_obs'].astype(int) // 1e3\n",
        "    ax.scatter(tmp['n_obs'], tmp['runtime'].astype(float), label=g, color=next(palette))\n",
        "\n",
        "ax.set_xlabel('Cells (thousands)')\n",
        "ax.set_ylabel('Runtime (sec)')\n",
        "ax.set_yscale('log')\n",
        "ax.set_title('Runtime with 5000 genes')\n",
        "ax.legend(loc='center left', bbox_to_anchor=(1.1, 0.5))\n",
        "# plt.show()\n",
        "plt.savefig('figures/retina_runtime.pdf', bbox_inches='tight', dpi=300)\n"
      ]
    },
    {
      "cell_type": "code",
      "execution_count": null,
      "metadata": {},
      "outputs": [],
      "source": []
    }
  ],
  "metadata": {
    "colab": {
      "collapsed_sections": [],
      "name": "velo_runtime_analysis.ipynb",
      "provenance": []
    },
    "kernelspec": {
      "display_name": "Python 3.9.12 ('velo')",
      "language": "python",
      "name": "python3"
    },
    "language_info": {
      "codemirror_mode": {
        "name": "ipython",
        "version": 3
      },
      "file_extension": ".py",
      "mimetype": "text/x-python",
      "name": "python",
      "nbconvert_exporter": "python",
      "pygments_lexer": "ipython3",
      "version": "3.9.12"
    },
    "vscode": {
      "interpreter": {
        "hash": "54260bb862133ad2c3937e07cdc2de1e49c8910db5fd4ef93dbacaa1bb28cb5e"
      }
    }
  },
  "nbformat": 4,
  "nbformat_minor": 0
}
