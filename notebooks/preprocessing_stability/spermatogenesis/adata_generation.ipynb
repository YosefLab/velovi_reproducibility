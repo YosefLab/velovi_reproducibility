{
 "cells": [
  {
   "cell_type": "markdown",
   "metadata": {},
   "source": [
    "# Data generation for RNA velocity analysis in spermatogenesis\n",
    "\n",
    "Generates `.h5ad` files to analyze RNA velocy in spermatogenesis using different pre-processing protocols."
   ]
  },
  {
   "cell_type": "markdown",
   "metadata": {
    "hidePrompt": true,
    "jp-MarkdownHeadingCollapsed": true,
    "tags": []
   },
   "source": [
    "## Preliminaries\n",
    "\n",
    "**Requires**\n",
    "\n",
    "* `DATA_DIR/spermatogenesis/Spermatogenesis_adata_quantifications_combined.h5ad`\n",
    "\n",
    "**Output**\n",
    "\n",
    "* `DATA_DIR/spermatogenesis/alevin_prepref_isocollapse_cdna_introns_decoy_gentrome.h5ad`\n",
    "* `DATA_DIR/spermatogenesis/alevin_prepref_isocollapse_cdna_introns_gentrome.h5ad`\n",
    "* `DATA_DIR/spermatogenesis/alevin_prepref_isoseparate_cdna_introns_decoy_gentrome.h5ad`\n",
    "* `DATA_DIR/spermatogenesis/alevin_prepref_isoseparate_cdna_introns_gentrome.h5ad`\n",
    "* `DATA_DIR/spermatogenesis/alevin_spliced_unspliced_gentrome.h5ad`\n",
    "* `DATA_DIR/spermatogenesis/dropest.h5ad`\n",
    "* `DATA_DIR/spermatogenesis/kallisto_bustools_prepref_isocollapse_exclude.h5ad`\n",
    "* `DATA_DIR/spermatogenesis/kallisto_bustools_prepref_isocollapse_include.h5ad`\n",
    "* `DATA_DIR/spermatogenesis/kallisto_bustools_prepref_isoseparate_exclude.h5ad`\n",
    "* `DATA_DIR/spermatogenesis/kallisto_bustools_prepref_isoseparate_include.h5ad`\n",
    "* `DATA_DIR/spermatogenesis/starsolo.h5ad`\n",
    "* `DATA_DIR/spermatogenesis/starsolo_subtr.h5ad`\n",
    "* `DATA_DIR/spermatogenesis/velocyto.h5ad`"
   ]
  },
  {
   "cell_type": "markdown",
   "metadata": {},
   "source": [
    "## Library imports"
   ]
  },
  {
   "cell_type": "code",
   "execution_count": 1,
   "metadata": {
    "ExecuteTime": {
     "end_time": "2021-03-10T14:47:56.259933Z",
     "start_time": "2021-03-10T14:47:53.685458Z"
    },
    "hidePrompt": true
   },
   "outputs": [],
   "source": [
    "from pathlib import Path\n",
    "import sys\n",
    "\n",
    "# import standard packages\n",
    "import pandas as pd\n",
    "\n",
    "# import single-cell packages\n",
    "from anndata import AnnData\n",
    "import scanpy as sc\n",
    "\n",
    "sys.path.append(\"../../..\")\n",
    "from paths import DATA_DIR"
   ]
  },
  {
   "cell_type": "markdown",
   "metadata": {},
   "source": [
    "## Data loading"
   ]
  },
  {
   "cell_type": "code",
   "execution_count": 2,
   "metadata": {
    "ExecuteTime": {
     "end_time": "2021-03-10T14:51:12.012432Z",
     "start_time": "2021-03-10T14:51:03.367697Z"
    }
   },
   "outputs": [
    {
     "data": {
      "text/plain": [
       "AnnData object with n_obs × n_vars = 1829 × 54144\n",
       "    obs: 'cell_index', 'clusters_coarse', 'clusters'\n",
       "    uns: 'X_name', 'dataset'\n",
       "    obsm: 'PCA_alevin_spliced_gentrome', 'TSNE_alevin_spliced_gentrome', 'UMAP_alevin_spliced_gentrome'\n",
       "    layers: 'alevin_prepref_isocollapse_cdna_introns_decoy_gentrome_spliced', 'alevin_prepref_isocollapse_cdna_introns_decoy_gentrome_unspliced', 'alevin_prepref_isocollapse_cdna_introns_gentrome_spliced', 'alevin_prepref_isocollapse_cdna_introns_gentrome_unspliced', 'alevin_prepref_isoseparate_cdna_introns_decoy_gentrome_spliced', 'alevin_prepref_isoseparate_cdna_introns_decoy_gentrome_unspliced', 'alevin_prepref_isoseparate_cdna_introns_gentrome_spliced', 'alevin_prepref_isoseparate_cdna_introns_gentrome_unspliced', 'alevin_spliced_gentrome_counts', 'alevin_spliced_unspliced_gentrome_spliced', 'alevin_spliced_unspliced_gentrome_unspliced', 'dropest_spliced', 'dropest_unspliced', 'kallisto_bustools_prepref_isocollapse_exclude_spliced', 'kallisto_bustools_prepref_isocollapse_exclude_unspliced', 'kallisto_bustools_prepref_isocollapse_include_spliced', 'kallisto_bustools_prepref_isocollapse_include_unspliced', 'kallisto_bustools_prepref_isoseparate_exclude_spliced', 'kallisto_bustools_prepref_isoseparate_exclude_unspliced', 'kallisto_bustools_prepref_isoseparate_include_spliced', 'kallisto_bustools_prepref_isoseparate_include_unspliced', 'starsolo_spliced', 'starsolo_subtr_spliced', 'starsolo_subtr_unspliced', 'starsolo_unspliced', 'velocyto_unspliced'"
      ]
     },
     "execution_count": 2,
     "metadata": {},
     "output_type": "execute_result"
    }
   ],
   "source": [
    "adata = sc.read(\n",
    "    DATA_DIR / \"spermatogenesis\" / \"Spermatogenesis_adata_quantifications_combined.h5ad\"\n",
    ")\n",
    "adata"
   ]
  },
  {
   "cell_type": "markdown",
   "metadata": {},
   "source": [
    "## Data generation"
   ]
  },
  {
   "cell_type": "code",
   "execution_count": 3,
   "metadata": {},
   "outputs": [
    {
     "name": "stderr",
     "output_type": "stream",
     "text": [
      "/tmp/ipykernel_55632/4262589273.py:1: FutureWarning: X.dtype being converted to np.float32 from float64. In the next version of anndata (0.9) conversion will not be automatic. Pass dtype explicitly to avoid this warning. Pass `AnnData(X, dtype=X.dtype, ...)` to get the future behavour.\n",
      "  alevin_coll_decoy_gtr = AnnData(\n"
     ]
    }
   ],
   "source": [
    "alevin_coll_decoy_gtr = AnnData(\n",
    "    X=adata.layers['alevin_prepref_isocollapse_cdna_introns_decoy_gentrome_spliced'],\n",
    "    layers={\n",
    "        'unspliced': adata.layers['alevin_prepref_isocollapse_cdna_introns_decoy_gentrome_unspliced'],\n",
    "        'spliced': adata.layers['alevin_prepref_isocollapse_cdna_introns_decoy_gentrome_spliced'],\n",
    "    },\n",
    "    obs=adata.obs[['cell_index', 'clusters_coarse', 'clusters']],\n",
    "    var=pd.DataFrame(index=adata.var_names),\n",
    ")\n",
    "alevin_coll_decoy_gtr.write(DATA_DIR / \"spermatogenesis\" / \"alevin_prepref_isocollapse_cdna_introns_decoy_gentrome.h5ad\")"
   ]
  },
  {
   "cell_type": "code",
   "execution_count": 4,
   "metadata": {},
   "outputs": [
    {
     "name": "stderr",
     "output_type": "stream",
     "text": [
      "/tmp/ipykernel_55632/2193934378.py:1: FutureWarning: X.dtype being converted to np.float32 from float64. In the next version of anndata (0.9) conversion will not be automatic. Pass dtype explicitly to avoid this warning. Pass `AnnData(X, dtype=X.dtype, ...)` to get the future behavour.\n",
      "  alevin_coll_gtr = AnnData(\n"
     ]
    }
   ],
   "source": [
    "alevin_coll_gtr = AnnData(\n",
    "    X=adata.layers['alevin_prepref_isocollapse_cdna_introns_gentrome_spliced'],\n",
    "    layers={\n",
    "        'unspliced': adata.layers['alevin_prepref_isocollapse_cdna_introns_gentrome_unspliced'],\n",
    "        'spliced': adata.layers['alevin_prepref_isocollapse_cdna_introns_gentrome_spliced'],\n",
    "    },\n",
    "    obs=adata.obs[['cell_index', 'clusters_coarse', 'clusters']],\n",
    "    var=pd.DataFrame(index=adata.var_names),\n",
    ")\n",
    "alevin_coll_gtr.write(DATA_DIR / \"spermatogenesis\" / \"alevin_prepref_isocollapse_cdna_introns_gentrome.h5ad\")"
   ]
  },
  {
   "cell_type": "code",
   "execution_count": 5,
   "metadata": {},
   "outputs": [
    {
     "name": "stderr",
     "output_type": "stream",
     "text": [
      "/tmp/ipykernel_55632/3226528060.py:1: FutureWarning: X.dtype being converted to np.float32 from float64. In the next version of anndata (0.9) conversion will not be automatic. Pass dtype explicitly to avoid this warning. Pass `AnnData(X, dtype=X.dtype, ...)` to get the future behavour.\n",
      "  alevin_sep_decoy_gtr = AnnData(\n"
     ]
    }
   ],
   "source": [
    "alevin_sep_decoy_gtr = AnnData(\n",
    "    X=adata.layers['alevin_prepref_isoseparate_cdna_introns_decoy_gentrome_spliced'],\n",
    "    layers={\n",
    "        'unspliced': adata.layers['alevin_prepref_isoseparate_cdna_introns_decoy_gentrome_unspliced'],\n",
    "        'spliced': adata.layers['alevin_prepref_isoseparate_cdna_introns_decoy_gentrome_spliced'],\n",
    "    },\n",
    "    obs=adata.obs[['cell_index', 'clusters_coarse', 'clusters']],\n",
    "    var=pd.DataFrame(index=adata.var_names),\n",
    ")\n",
    "alevin_sep_decoy_gtr.write(DATA_DIR / \"spermatogenesis\" / \"alevin_prepref_isoseparate_cdna_introns_decoy_gentrome.h5ad\")"
   ]
  },
  {
   "cell_type": "code",
   "execution_count": 6,
   "metadata": {},
   "outputs": [
    {
     "name": "stderr",
     "output_type": "stream",
     "text": [
      "/tmp/ipykernel_55632/1316360450.py:1: FutureWarning: X.dtype being converted to np.float32 from float64. In the next version of anndata (0.9) conversion will not be automatic. Pass dtype explicitly to avoid this warning. Pass `AnnData(X, dtype=X.dtype, ...)` to get the future behavour.\n",
      "  alevin_sep_gtr = AnnData(\n"
     ]
    }
   ],
   "source": [
    "alevin_sep_gtr = AnnData(\n",
    "    X=adata.layers['alevin_prepref_isoseparate_cdna_introns_gentrome_spliced'],\n",
    "    layers={\n",
    "        'unspliced': adata.layers['alevin_prepref_isoseparate_cdna_introns_gentrome_unspliced'],\n",
    "        'spliced': adata.layers['alevin_prepref_isoseparate_cdna_introns_gentrome_spliced'],\n",
    "    },\n",
    "    obs=adata.obs[['cell_index', 'clusters_coarse', 'clusters']],\n",
    "    var=pd.DataFrame(index=adata.var_names),\n",
    ")\n",
    "alevin_sep_gtr.write(DATA_DIR / \"spermatogenesis\" / \"alevin_prepref_isoseparate_cdna_introns_gentrome.h5ad\")"
   ]
  },
  {
   "cell_type": "code",
   "execution_count": 7,
   "metadata": {},
   "outputs": [
    {
     "name": "stderr",
     "output_type": "stream",
     "text": [
      "/tmp/ipykernel_55632/1297943926.py:1: FutureWarning: X.dtype being converted to np.float32 from float64. In the next version of anndata (0.9) conversion will not be automatic. Pass dtype explicitly to avoid this warning. Pass `AnnData(X, dtype=X.dtype, ...)` to get the future behavour.\n",
      "  alevin_spliced_unspliced_gtr = AnnData(\n"
     ]
    }
   ],
   "source": [
    "alevin_spliced_unspliced_gtr = AnnData(\n",
    "    X=adata.layers['alevin_spliced_unspliced_gentrome_spliced'],\n",
    "    layers={\n",
    "        'unspliced': adata.layers['alevin_spliced_unspliced_gentrome_unspliced'],\n",
    "        'spliced': adata.layers['alevin_spliced_unspliced_gentrome_spliced'],\n",
    "    },\n",
    "    obs=adata.obs[['cell_index', 'clusters_coarse', 'clusters']],\n",
    "    var=pd.DataFrame(index=adata.var_names),\n",
    ")\n",
    "alevin_spliced_unspliced_gtr.write(DATA_DIR / \"spermatogenesis\" / \"alevin_spliced_unspliced_gentrome.h5ad\")"
   ]
  },
  {
   "cell_type": "code",
   "execution_count": 8,
   "metadata": {},
   "outputs": [
    {
     "name": "stderr",
     "output_type": "stream",
     "text": [
      "/tmp/ipykernel_55632/1095542269.py:1: FutureWarning: X.dtype being converted to np.float32 from float64. In the next version of anndata (0.9) conversion will not be automatic. Pass dtype explicitly to avoid this warning. Pass `AnnData(X, dtype=X.dtype, ...)` to get the future behavour.\n",
      "  dropest = AnnData(\n"
     ]
    }
   ],
   "source": [
    "dropest = AnnData(\n",
    "    X=adata.layers['dropest_spliced'],\n",
    "    layers={\n",
    "        'unspliced': adata.layers['dropest_unspliced'],\n",
    "        'spliced': adata.layers['dropest_spliced'],\n",
    "    },\n",
    "    obs=adata.obs[['cell_index', 'clusters_coarse', 'clusters']],\n",
    "    var=pd.DataFrame(index=adata.var_names),\n",
    ")\n",
    "dropest.write(DATA_DIR / \"spermatogenesis\" / \"dropest.h5ad\")"
   ]
  },
  {
   "cell_type": "code",
   "execution_count": 9,
   "metadata": {},
   "outputs": [
    {
     "name": "stderr",
     "output_type": "stream",
     "text": [
      "/tmp/ipykernel_55632/2241203077.py:1: FutureWarning: X.dtype being converted to np.float32 from float64. In the next version of anndata (0.9) conversion will not be automatic. Pass dtype explicitly to avoid this warning. Pass `AnnData(X, dtype=X.dtype, ...)` to get the future behavour.\n",
      "  kalisto_bustools_coll_excl = AnnData(\n"
     ]
    }
   ],
   "source": [
    "kalisto_bustools_coll_excl = AnnData(\n",
    "    X=adata.layers['kallisto_bustools_prepref_isocollapse_exclude_spliced'],\n",
    "    layers={\n",
    "        'unspliced': adata.layers['kallisto_bustools_prepref_isocollapse_exclude_unspliced'],\n",
    "        'spliced': adata.layers['kallisto_bustools_prepref_isocollapse_exclude_spliced'],\n",
    "    },\n",
    "    obs=adata.obs[['cell_index', 'clusters_coarse', 'clusters']],\n",
    "    var=pd.DataFrame(index=adata.var_names),\n",
    ")\n",
    "kalisto_bustools_coll_excl.write(DATA_DIR / \"spermatogenesis\" / \"kallisto_bustools_prepref_isocollapse_exclude.h5ad\")"
   ]
  },
  {
   "cell_type": "code",
   "execution_count": 10,
   "metadata": {},
   "outputs": [
    {
     "name": "stderr",
     "output_type": "stream",
     "text": [
      "/tmp/ipykernel_55632/3440704683.py:1: FutureWarning: X.dtype being converted to np.float32 from float64. In the next version of anndata (0.9) conversion will not be automatic. Pass dtype explicitly to avoid this warning. Pass `AnnData(X, dtype=X.dtype, ...)` to get the future behavour.\n",
      "  kalisto_bustools_coll_incl = AnnData(\n"
     ]
    }
   ],
   "source": [
    "kalisto_bustools_coll_incl = AnnData(\n",
    "    X=adata.layers['kallisto_bustools_prepref_isocollapse_include_spliced'],\n",
    "    layers={\n",
    "        'unspliced': adata.layers['kallisto_bustools_prepref_isocollapse_include_unspliced'],\n",
    "        'spliced': adata.layers['kallisto_bustools_prepref_isocollapse_include_spliced'],\n",
    "    },\n",
    "    obs=adata.obs[['cell_index', 'clusters_coarse', 'clusters']],\n",
    "    var=pd.DataFrame(index=adata.var_names),\n",
    ")\n",
    "kalisto_bustools_coll_incl.write(DATA_DIR / \"spermatogenesis\" / \"kallisto_bustools_prepref_isocollapse_include.h5ad\")"
   ]
  },
  {
   "cell_type": "code",
   "execution_count": 11,
   "metadata": {},
   "outputs": [
    {
     "name": "stderr",
     "output_type": "stream",
     "text": [
      "/tmp/ipykernel_55632/639120034.py:1: FutureWarning: X.dtype being converted to np.float32 from float64. In the next version of anndata (0.9) conversion will not be automatic. Pass dtype explicitly to avoid this warning. Pass `AnnData(X, dtype=X.dtype, ...)` to get the future behavour.\n",
      "  kalisto_bustools_sep_excl = AnnData(\n"
     ]
    }
   ],
   "source": [
    "kalisto_bustools_sep_excl = AnnData(\n",
    "    X=adata.layers['kallisto_bustools_prepref_isoseparate_exclude_spliced'],\n",
    "    layers={\n",
    "        'unspliced': adata.layers['kallisto_bustools_prepref_isoseparate_exclude_unspliced'],\n",
    "        'spliced': adata.layers['kallisto_bustools_prepref_isoseparate_exclude_spliced'],\n",
    "    },\n",
    "    obs=adata.obs[['cell_index', 'clusters_coarse', 'clusters']],\n",
    "    var=pd.DataFrame(index=adata.var_names),\n",
    ")\n",
    "kalisto_bustools_sep_excl.write(DATA_DIR / \"spermatogenesis\" / \"kallisto_bustools_prepref_isoseparate_exclude.h5ad\")"
   ]
  },
  {
   "cell_type": "code",
   "execution_count": 12,
   "metadata": {},
   "outputs": [
    {
     "name": "stderr",
     "output_type": "stream",
     "text": [
      "/tmp/ipykernel_55632/4141797636.py:1: FutureWarning: X.dtype being converted to np.float32 from float64. In the next version of anndata (0.9) conversion will not be automatic. Pass dtype explicitly to avoid this warning. Pass `AnnData(X, dtype=X.dtype, ...)` to get the future behavour.\n",
      "  kalisto_bustools_sep_incl = AnnData(\n"
     ]
    }
   ],
   "source": [
    "kalisto_bustools_sep_incl = AnnData(\n",
    "    X=adata.layers['kallisto_bustools_prepref_isoseparate_include_spliced'],\n",
    "    layers={\n",
    "        'unspliced': adata.layers['kallisto_bustools_prepref_isoseparate_include_unspliced'],\n",
    "        'spliced': adata.layers['kallisto_bustools_prepref_isoseparate_include_spliced'],\n",
    "    },\n",
    "    obs=adata.obs[['cell_index', 'clusters_coarse', 'clusters']],\n",
    "    var=pd.DataFrame(index=adata.var_names),\n",
    ")\n",
    "kalisto_bustools_sep_incl.write(DATA_DIR / \"spermatogenesis\" / \"kallisto_bustools_prepref_isoseparate_include.h5ad\")"
   ]
  },
  {
   "cell_type": "code",
   "execution_count": 13,
   "metadata": {},
   "outputs": [
    {
     "name": "stderr",
     "output_type": "stream",
     "text": [
      "/tmp/ipykernel_55632/1123460196.py:1: FutureWarning: X.dtype being converted to np.float32 from float64. In the next version of anndata (0.9) conversion will not be automatic. Pass dtype explicitly to avoid this warning. Pass `AnnData(X, dtype=X.dtype, ...)` to get the future behavour.\n",
      "  starsolo = AnnData(\n"
     ]
    }
   ],
   "source": [
    "starsolo = AnnData(\n",
    "    X=adata.layers['starsolo_spliced'],\n",
    "    layers={\n",
    "        'unspliced': adata.layers['starsolo_unspliced'],\n",
    "        'spliced': adata.layers['starsolo_spliced'],\n",
    "    },\n",
    "    obs=adata.obs[['cell_index', 'clusters_coarse', 'clusters']],\n",
    "    var=pd.DataFrame(index=adata.var_names),\n",
    ")\n",
    "starsolo.write(DATA_DIR / \"spermatogenesis\" / \"starsolo.h5ad\")"
   ]
  },
  {
   "cell_type": "code",
   "execution_count": 14,
   "metadata": {},
   "outputs": [
    {
     "name": "stderr",
     "output_type": "stream",
     "text": [
      "/tmp/ipykernel_55632/172827074.py:1: FutureWarning: X.dtype being converted to np.float32 from float64. In the next version of anndata (0.9) conversion will not be automatic. Pass dtype explicitly to avoid this warning. Pass `AnnData(X, dtype=X.dtype, ...)` to get the future behavour.\n",
      "  starsolo_diff = AnnData(\n"
     ]
    }
   ],
   "source": [
    "starsolo_diff = AnnData(\n",
    "    X=adata.layers['starsolo_subtr_spliced'],\n",
    "    layers={\n",
    "        'unspliced': adata.layers['starsolo_subtr_unspliced'],\n",
    "        'spliced': adata.layers['starsolo_subtr_spliced'],\n",
    "    },\n",
    "    obs=adata.obs[['cell_index', 'clusters_coarse', 'clusters']],\n",
    "    var=pd.DataFrame(index=adata.var_names),\n",
    ")\n",
    "starsolo_diff.write(DATA_DIR / \"spermatogenesis\" / \"starsolo_subtr.h5ad\")"
   ]
  },
  {
   "cell_type": "code",
   "execution_count": 15,
   "metadata": {},
   "outputs": [],
   "source": [
    "velocyto = AnnData(\n",
    "    X=adata.X,\n",
    "    layers={\n",
    "        'unspliced': adata.layers['velocyto_unspliced'],\n",
    "        'spliced': adata.X,\n",
    "    },\n",
    "    obs=adata.obs[['cell_index', 'clusters_coarse', 'clusters']],\n",
    "    var=pd.DataFrame(index=adata.var_names),\n",
    ")\n",
    "velocyto.write(DATA_DIR / \"spermatogenesis\" / \"velocyto.h5ad\")"
   ]
  }
 ],
 "metadata": {
  "kernelspec": {
   "display_name": "velovi-py39",
   "language": "python",
   "name": "velovi-py39"
  },
  "language_info": {
   "codemirror_mode": {
    "name": "ipython",
    "version": 3
   },
   "file_extension": ".py",
   "mimetype": "text/x-python",
   "name": "python",
   "nbconvert_exporter": "python",
   "pygments_lexer": "ipython3",
   "version": "3.9.12"
  },
  "toc": {
   "base_numbering": 1,
   "nav_menu": {},
   "number_sections": true,
   "sideBar": true,
   "skip_h1_title": false,
   "title_cell": "Table of Contents",
   "title_sidebar": "Contents",
   "toc_cell": false,
   "toc_position": {
    "height": "calc(100% - 180px)",
    "left": "10px",
    "top": "150px",
    "width": "288px"
   },
   "toc_section_display": true,
   "toc_window_display": true
  }
 },
 "nbformat": 4,
 "nbformat_minor": 4
}
